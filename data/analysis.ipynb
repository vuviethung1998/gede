{
 "cells": [
  {
   "cell_type": "code",
   "execution_count": 8,
   "metadata": {},
   "outputs": [],
   "source": [
    "import pandas as pd\n",
    "import numpy as np \n",
    "\n",
    "datasrc= './LondonSSA/location.csv'\n",
    "datatarget = './merged_AQ/location.csv'\n",
    "\n",
    "df1=  pd.read_csv(datasrc)\n",
    "df2=  pd.read_csv(datatarget)\n",
    " "
   ]
  },
  {
   "cell_type": "code",
   "execution_count": 23,
   "metadata": {},
   "outputs": [],
   "source": [
    "train = [0,8,12, 21, 23, 24, 20, 29, 1, 2, 5, 14, 15 ,18]\n",
    "valid = [4, 6, 7, 19, 22, 16, 13, 9, 11, 27]\n",
    "test = [17, 25, 26, 3, 10, 18]"
   ]
  },
  {
   "cell_type": "code",
   "execution_count": 20,
   "metadata": {},
   "outputs": [
    {
     "data": {
      "text/plain": [
       "[15, 17, 19, 21, 48, 73, 96, 114, 131, 134, 137]"
      ]
     },
     "execution_count": 20,
     "metadata": {},
     "output_type": "execute_result"
    }
   ],
   "source": [
    "lst_stat_train = df1.iloc[train]['location'].tolist()\n",
    "lst_idx_train_new = df2.index[df2['station'].isin( lst_stat_train)].tolist()\n",
    "lst_idx_train_new"
   ]
  },
  {
   "cell_type": "code",
   "execution_count": 21,
   "metadata": {},
   "outputs": [
    {
     "data": {
      "text/plain": [
       "[20, 34, 56, 85]"
      ]
     },
     "execution_count": 21,
     "metadata": {},
     "output_type": "execute_result"
    }
   ],
   "source": [
    "lst_stat_valid = df1.iloc[valid]['location'].tolist()\n",
    "lst_idx_valid_new = df2.index[df2['station'].isin( lst_stat_valid)].tolist()\n",
    "lst_idx_valid_new"
   ]
  },
  {
   "cell_type": "code",
   "execution_count": 31,
   "metadata": {},
   "outputs": [
    {
     "name": "stdout",
     "output_type": "stream",
     "text": [
      "PLYM [AQ]\n",
      "[97]\n",
      "SWA1 [AQ]\n",
      "[]\n",
      "PLYR [AQ]\n",
      "[98]\n",
      "WC [AQ]\n",
      "[]\n",
      "HORE [AQ]\n",
      "[]\n",
      "WEYB [AQ]\n",
      "[134]\n"
     ]
    }
   ],
   "source": [
    "lst_stat_test = df1.iloc[test]['location'].tolist()\n",
    "for idx in lst_stat_test:\n",
    "    idx_test_new = df2.index[df2['station'] == idx].tolist()\n",
    "    print(idx)\n",
    "    print(idx_test_new)\n",
    "# df2: 97 ,98,134 \n",
    "# df1: 17, 26, 18"
   ]
  }
 ],
 "metadata": {
  "interpreter": {
   "hash": "fd69f43f58546b570e94fd7eba7b65e6bcc7a5bbc4eab0408017d18902915d69"
  },
  "kernelspec": {
   "display_name": "Python 3.7.5 64-bit",
   "language": "python",
   "name": "python3"
  },
  "language_info": {
   "codemirror_mode": {
    "name": "ipython",
    "version": 3
   },
   "file_extension": ".py",
   "mimetype": "text/x-python",
   "name": "python",
   "nbconvert_exporter": "python",
   "pygments_lexer": "ipython3",
   "version": "3.7.5"
  },
  "orig_nbformat": 4
 },
 "nbformat": 4,
 "nbformat_minor": 2
}
