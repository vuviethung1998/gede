{
 "cells": [
  {
   "cell_type": "code",
   "execution_count": 1,
   "metadata": {},
   "outputs": [],
   "source": [
    "import pandas as pd \n",
    "import numpy as np \n"
   ]
  },
  {
   "cell_type": "code",
   "execution_count": 2,
   "metadata": {},
   "outputs": [],
   "source": [
    "data_dir  ='./beijing_AQ/'\n",
    "out_dir = './beijing_AQ_ft/'\n",
    "\n",
    "loc_dir = data_dir + 'location.csv'"
   ]
  },
  {
   "cell_type": "code",
   "execution_count": 3,
   "metadata": {},
   "outputs": [],
   "source": [
    "fts = ['PM2.5','AQI','PM10','CO','NO2','O3','SO2','2m_temperature','surface_pressure','evaporation','total_precipitation','wind_speed','wind_angle']\n",
    "ft_dct = {}\n",
    "for ft in fts:\n",
    "    ft_dct.update({ft: {}}) "
   ]
  },
  {
   "cell_type": "code",
   "execution_count": null,
   "metadata": {},
   "outputs": [],
   "source": [
    "df_loc = pd.read_csv(loc_dir)\n",
    "locs  =  df_loc['station'].tolist()\n",
    "locs"
   ]
  },
  {
   "cell_type": "code",
   "execution_count": 15,
   "metadata": {},
   "outputs": [],
   "source": [
    "for ft in fts:\n",
    "    df = pd.read_csv(data_dir + f\"{locs[0]}.csv\")\n",
    "    ft_dct[ft].update({'year': df['year'].tolist() })\n",
    "    ft_dct[ft].update({'month': df['month'].tolist() })\n",
    "    ft_dct[ft].update({'day': df['day'].tolist() })\n",
    "    ft_dct[ft].update({'hour': df['hour'].tolist() })\n",
    "    for loc in locs:\n",
    "        df = pd.read_csv(data_dir + f\"{loc}.csv\")\n",
    "        ft_col = df[ft].tolist()\n",
    "        ft_dct[ft].update({loc: ft_col})  "
   ]
  },
  {
   "cell_type": "code",
   "execution_count": 18,
   "metadata": {},
   "outputs": [],
   "source": [
    "for ft in fts:\n",
    "    df = pd.DataFrame(data=ft_dct[ft], columns=['year', 'month', 'day', 'hour'] + locs)\n",
    "    df.to_csv(out_dir +f\"{ft}.csv\")"
   ]
  },
  {
   "cell_type": "code",
   "execution_count": null,
   "metadata": {},
   "outputs": [],
   "source": []
  }
 ],
 "metadata": {
  "kernelspec": {
   "display_name": "Python 3.7.5 64-bit",
   "language": "python",
   "name": "python3"
  },
  "language_info": {
   "codemirror_mode": {
    "name": "ipython",
    "version": 3
   },
   "file_extension": ".py",
   "mimetype": "text/x-python",
   "name": "python",
   "nbconvert_exporter": "python",
   "pygments_lexer": "ipython3",
   "version": "3.7.5"
  },
  "orig_nbformat": 4,
  "vscode": {
   "interpreter": {
    "hash": "fd69f43f58546b570e94fd7eba7b65e6bcc7a5bbc4eab0408017d18902915d69"
   }
  }
 },
 "nbformat": 4,
 "nbformat_minor": 2
}
