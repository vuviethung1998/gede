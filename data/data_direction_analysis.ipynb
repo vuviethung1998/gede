{
 "cells": [
  {
   "cell_type": "code",
   "execution_count": 10,
   "metadata": {},
   "outputs": [
    {
     "name": "stdout",
     "output_type": "stream",
     "text": [
      "['0', 'E', 'ENE', 'ESE', 'N', 'NE', 'NNE', 'NNW', 'NW', 'S', 'SE', 'SSE', 'SSW', 'SW', 'W', 'WNW', 'WSW']\n"
     ]
    }
   ],
   "source": [
    "import pandas as pd \n",
    "import numpy as np \n",
    "import os \n",
    "data_dir = './Beijing12'\n",
    "files = os.listdir(data_dir)\n",
    "lst_dirs = [] \n",
    "\n",
    "for file in files:\n",
    "    if file != 'location.csv':\n",
    "        fdir = data_dir +'/' + file\n",
    "        df = pd.read_csv(fdir)\n",
    "        lst_dirs += df['wd'].tolist()\n",
    "dirs = list(set(lst_dirs))\n",
    "dir_sorted = sorted(dirs)\n",
    "print(dir_sorted)"
   ]
  },
  {
   "cell_type": "code",
   "execution_count": 11,
   "metadata": {},
   "outputs": [],
   "source": [
    "id_2_radius = {\n",
    "    '0': -1, \n",
    "    'E': 90, \n",
    "    'ENE': 67.5, \n",
    "    'ESE': 112.5, \n",
    "    'N': 360, \n",
    "    'NE': 45, \n",
    "    'NNE': 22.5, \n",
    "    'NNW': 337.5, \n",
    "    'NW': 315, \n",
    "    'S': 180, \n",
    "    'SE': 135, \n",
    "    'SSE': 157.5, \n",
    "    'SSW': 202.5, \n",
    "    'SW': 225, \n",
    "    'W': 270, \n",
    "    'WNW': 292.5, \n",
    "    'WSW': 247.5\n",
    "}"
   ]
  }
 ],
 "metadata": {
  "interpreter": {
   "hash": "31f2aee4e71d21fbe5cf8b01ff0e069b9275f58929596ceb00d14d90e3e16cd6"
  },
  "kernelspec": {
   "display_name": "Python 3.8.10 64-bit",
   "language": "python",
   "name": "python3"
  },
  "language_info": {
   "codemirror_mode": {
    "name": "ipython",
    "version": 3
   },
   "file_extension": ".py",
   "mimetype": "text/x-python",
   "name": "python",
   "nbconvert_exporter": "python",
   "pygments_lexer": "ipython3",
   "version": "3.6.9"
  },
  "orig_nbformat": 4
 },
 "nbformat": 4,
 "nbformat_minor": 2
}
